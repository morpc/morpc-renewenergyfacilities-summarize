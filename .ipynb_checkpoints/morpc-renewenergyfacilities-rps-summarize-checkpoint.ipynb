{
 "cells": [
  {
   "cell_type": "code",
   "execution_count": 2,
   "id": "37bb63ea-2ba5-494a-a1f6-13bb3ad96c88",
   "metadata": {},
   "outputs": [],
   "source": [
    "import os\n",
    "import requests\n",
    "import pandas as pd\n",
    "import geopandas as gpd\n",
    "import sys\n",
    "import datetime\n",
    "sys.path.append(\"../morpc-common/\")\n",
    "import morpc"
   ]
  },
  {
   "cell_type": "code",
   "execution_count": 80,
   "id": "4ebcbb22-6772-4e39-9610-7dfb68356cde",
   "metadata": {},
   "outputs": [],
   "source": [
    "OUTPUT_DIR = './output_data'\n",
    "if not os.path.exists(OUTPUT_DIR):\n",
    "    os.mkdir(OUTPUT_DIR)"
   ]
  },
  {
   "cell_type": "code",
   "execution_count": 81,
   "id": "7ba09545-89bf-4f01-a910-b7f1b482e35e",
   "metadata": {},
   "outputs": [
    {
     "name": "stdout",
     "output_type": "stream",
     "text": [
      "morpc.load_frictionless_data | INFO | Loading Frictionless Resource file at location ..\\morpc-renewenergyfacilities-standardize\\output_data\\renewable_portfolio_standard_facilities.resource.yaml\n",
      "morpc.load_frictionless_data | INFO | Loading data, resource file, and schema from their source locations\n",
      "morpc.load_frictionless_data | INFO | --> Data file: ..\\morpc-renewenergyfacilities-standardize\\output_data\\renewable_portfolio_standard_facilities.csv\n",
      "morpc.load_frictionless_data | INFO | --> Resource file: ..\\morpc-renewenergyfacilities-standardize\\output_data\\renewable_portfolio_standard_facilities.resource.yaml\n",
      "morpc.load_frictionless_data | INFO | --> Schema file: ..\\morpc-renewenergyfacilities-standardize\\output_data\\renewable_portfolio_standard_facilities.schema.yaml\n",
      "morpc.load_frictionless_data | INFO | Loading data.\n",
      "frictionless_cast_field_types | INFO | Casting field Name Of Renewable Generating Facility as type string.\n",
      "frictionless_cast_field_types | INFO | Casting field State as type string.\n",
      "frictionless_cast_field_types | INFO | Casting field County as type string.\n",
      "frictionless_cast_field_types | INFO | Casting field Approved as type date.\n",
      "frictionless_cast_field_types | INFO | Casting field Certificate ID as type string.\n",
      "frictionless_cast_field_types | INFO | Casting field Technology as type string.\n",
      "frictionless_cast_field_types | INFO | Casting field Capacity (MW) as type number.\n"
     ]
    }
   ],
   "source": [
    "data_raw, resource, schema = morpc.frictionless_load_data('../morpc-renewenergyfacilities-standardize/output_data/renewable_portfolio_standard_facilities.resource.yaml')"
   ]
  },
  {
   "cell_type": "code",
   "execution_count": 65,
   "id": "de7c757b-a961-403d-8faa-2ab73ccd2e44",
   "metadata": {},
   "outputs": [],
   "source": [
    "data = data_raw.copy()\n",
    "data['County'] = [x.replace(' County', '')for x in data['County']]\n",
    "data['Year'] = [int(x.strftime('%Y')) for x in data['Approved']]"
   ]
  },
  {
   "cell_type": "code",
   "execution_count": 66,
   "id": "d29da5c8-cb19-4134-ac79-3f8b7a83994b",
   "metadata": {},
   "outputs": [
    {
     "name": "stdout",
     "output_type": "stream",
     "text": [
      "Loading data for MORPC 15-County region only\n"
     ]
    }
   ],
   "source": [
    "county_names = morpc.countyLookup(scope = \"REGION15\").list_names()"
   ]
  },
  {
   "cell_type": "code",
   "execution_count": 67,
   "id": "b3f01d91-3c3f-4bd6-b8cc-b79bb179372c",
   "metadata": {},
   "outputs": [],
   "source": [
    "data = data.loc[data['County'].isin(county_names)]"
   ]
  },
  {
   "cell_type": "code",
   "execution_count": 68,
   "id": "4efe4e81-6683-4083-93cf-13b30da8c884",
   "metadata": {},
   "outputs": [
    {
     "data": {
      "text/plain": [
       "<Axes: >"
      ]
     },
     "execution_count": 68,
     "metadata": {},
     "output_type": "execute_result"
    },
    {
     "data": {
      "image/png": "[encoded data removed]",
      "text/plain": [
       "<Figure size 640x480 with 1 Axes>"
      ]
     },
     "metadata": {},
     "output_type": "display_data"
    }
   ],
   "source": [
    "data['Year'].hist(bins=len(data['Year'].unique()))"
   ]
  },
  {
   "cell_type": "code",
   "execution_count": 69,
   "id": "194c8dc8-cc93-434e-961c-4edae5d15785",
   "metadata": {},
   "outputs": [],
   "source": [
    "def calc_counts_sums(data, index_col, year_col, type_col, sum_col):\n",
    "    print(f\"INFO | Calculating sums for {sum_col} and counts for {type_col}\")\n",
    "    data = data.copy()\n",
    "    data['count'] = 1\n",
    "    count_col = 'count'\n",
    "    data['total'] = data[sum_col]\n",
    "    data = data[[index_col, year_col, type_col, 'count', 'total']].groupby([index_col, year_col, type_col]).sum().reset_index()\n",
    "    data = data.set_index([index_col, year_col])\n",
    "    data = data.pivot(columns = [type_col]).fillna(0)\n",
    "    data.columns = data.columns.map(\"_\".join)\n",
    "    columns = data.columns # Store columns to add zero observations later\n",
    "    data = data.reset_index()\n",
    "    return(data, columns)\n",
    "\n",
    "def add_zeros_for_non_obs(data, index_col, year_col, columns):\n",
    "    print(\"INFO | Adding zeros to empty observations.\")\n",
    "    # Add observations that have zeros so all combinations of index and year have a observation for all types.\n",
    "    accounted_place = data[index_col].unique()\t\n",
    "    first_year = data[year_col].min()\n",
    "    last_year = pd.Series([x for x in data[year_col] if x < 9999]).max()\n",
    "\n",
    "    data_zeros = data.copy()\n",
    "    for year in range(int(first_year), int(last_year)+1, 1):  # range stops at one less than the second parameter, hence the +1\n",
    "        for place in accounted_place:\n",
    "            if data_zeros[(data_zeros[year_col] == year) & (data_zeros[index_col] == place)].shape[0] == 0:\n",
    "                entry = {\n",
    "                    year_col: year,\n",
    "                    index_col: place,\n",
    "                }\n",
    "                for c in columns:\n",
    "                    entry[c] = 0\n",
    "                \n",
    "                data_zeros = pd.concat([data_zeros, pd.DataFrame.from_dict(entry, orient='index').transpose()], ignore_index=True)\n",
    "    return (data_zeros)\n",
    "\n",
    "def pivot_wide_to_long(data, index_col, preserve_cols, year_col, type_col):\n",
    "    print(\"INFO | Pivoting to long format\")\n",
    "    data = data.melt(id_vars=list(pd.core.common.flatten([index_col, preserve_cols, year_col]))).rename(columns={'variable':type_col})\n",
    "    data = data.sort_values([index_col, type_col, year_col])\n",
    "    return(data)"
   ]
  },
  {
   "cell_type": "code",
   "execution_count": 72,
   "id": "e0b82945-9975-49eb-8d96-a9cd80678626",
   "metadata": {},
   "outputs": [
    {
     "name": "stdout",
     "output_type": "stream",
     "text": [
      "INFO | Calculating sums for Capacity (MW) and counts for Technology\n"
     ]
    }
   ],
   "source": [
    "data, columns = calc_counts_sums(data, 'County', 'Year', 'Technology', 'Capacity (MW)')"
   ]
  },
  {
   "cell_type": "code",
   "execution_count": 73,
   "id": "56318c8e-f476-4be3-b11f-0d62a47bd31a",
   "metadata": {},
   "outputs": [
    {
     "name": "stdout",
     "output_type": "stream",
     "text": [
      "INFO | Adding zeros to empty observations.\n"
     ]
    }
   ],
   "source": [
    "wide = add_zeros_for_non_obs(data, 'County', 'Year', columns).sort_values(['County', 'Year'])"
   ]
  },
  {
   "cell_type": "code",
   "execution_count": 75,
   "id": "9b4f0410-9214-4a82-bb6a-9ed9c647142c",
   "metadata": {},
   "outputs": [],
   "source": [
    "wide['COUNTYFP'] = wide['County'].map(morpc.CONST_COUNTY_NAME_TO_ID)"
   ]
  },
  {
   "cell_type": "code",
   "execution_count": 76,
   "id": "e21c8abd-3130-482f-913c-b5377d2b49db",
   "metadata": {},
   "outputs": [
    {
     "name": "stdout",
     "output_type": "stream",
     "text": [
      "INFO | Pivoting to long format\n"
     ]
    }
   ],
   "source": [
    "long = pivot_wide_to_long(wide, 'County', 'COUNTYFP', 'Year', 'Technology')"
   ]
  },
  {
   "cell_type": "code",
   "execution_count": 82,
   "id": "bcacaf94-19be-4ffc-bfa2-37f3cc9ee636",
   "metadata": {},
   "outputs": [],
   "source": [
    "wide.to_csv(f'{OUTPUT_DIR}/morpc-rps-county-wide.csv', index=False)\n",
    "long.to_csv(f'{OUTPUT_DIR}/morpc-rps-county-long.csv', index=False)  "
   ]
  },
  {
   "cell_type": "code",
   "execution_count": 92,
   "id": "31b5fdec-6dd7-4f35-b71b-e0919e3c8f45",
   "metadata": {},
   "outputs": [],
   "source": [
    "region_wide = wide.drop(columns = ['County', 'COUNTYFP']).groupby(['Year']).sum().reset_index()"
   ]
  },
  {
   "cell_type": "code",
   "execution_count": 93,
   "id": "436a422f-a93a-4aa3-a103-da466aa516b5",
   "metadata": {},
   "outputs": [],
   "source": [
    "region_wide['Name'] = '15-County Region'\n",
    "region_wide['GEOID'] = '001'"
   ]
  },
  {
   "cell_type": "code",
   "execution_count": 96,
   "id": "7a96263a-ed91-4076-b726-1f5f55c6a392",
   "metadata": {},
   "outputs": [
    {
     "name": "stdout",
     "output_type": "stream",
     "text": [
      "INFO | Pivoting to long format\n"
     ]
    }
   ],
   "source": [
    "region_long = pivot_wide_to_long(region_wide, 'Name', 'GEOID', 'Year', 'Technology')"
   ]
  },
  {
   "cell_type": "code",
   "execution_count": 98,
   "id": "0dbc2ed9-1bd6-4c0a-82be-1af05654e3b7",
   "metadata": {},
   "outputs": [],
   "source": [
    "region_wide.to_csv(os.path.join(OUTPUT_DIR, 'morpc-rps-region-wide.csv'), index=False)\n",
    "region_long.to_csv(os.path.join(OUTPUT_DIR, 'morpc-rps-region-long.csv'), index=False)"
   ]
  },
  {
   "cell_type": "code",
   "execution_count": null,
   "id": "a05d621c-308a-44cc-ab23-1e002030df9a",
   "metadata": {},
   "outputs": [],
   "source": []
  }
 ],
 "metadata": {
  "kernelspec": {
   "display_name": "Python 3 (ipykernel)",
   "language": "python",
   "name": "python3"
  },
  "language_info": {
   "codemirror_mode": {
    "name": "ipython",
    "version": 3
   },
   "file_extension": ".py",
   "mimetype": "text/x-python",
   "name": "python",
   "nbconvert_exporter": "python",
   "pygments_lexer": "ipython3",
   "version": "3.13.1"
  }
 },
 "nbformat": 4,
 "nbformat_minor": 5
}
