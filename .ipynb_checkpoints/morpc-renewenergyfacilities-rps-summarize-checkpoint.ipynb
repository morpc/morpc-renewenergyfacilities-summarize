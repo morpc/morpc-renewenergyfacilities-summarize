{
 "cells": [
  {
   "cell_type": "code",
   "execution_count": 42,
   "id": "37bb63ea-2ba5-494a-a1f6-13bb3ad96c88",
   "metadata": {},
   "outputs": [],
   "source": [
    "import os\n",
    "import requests\n",
    "import pandas as pd\n",
    "import geopandas as gpd\n",
    "import sys\n",
    "import datetime\n",
    "import frictionless\n",
    "sys.path.append(\"../morpc-common/\")\n",
    "import morpc"
   ]
  },
  {
   "cell_type": "code",
   "execution_count": 2,
   "id": "4ebcbb22-6772-4e39-9610-7dfb68356cde",
   "metadata": {},
   "outputs": [],
   "source": [
    "OUTPUT_DIR = './output_data'\n",
    "if not os.path.exists(OUTPUT_DIR):\n",
    "    os.mkdir(OUTPUT_DIR)"
   ]
  },
  {
   "cell_type": "code",
   "execution_count": 3,
   "id": "7ba09545-89bf-4f01-a910-b7f1b482e35e",
   "metadata": {},
   "outputs": [
    {
     "name": "stdout",
     "output_type": "stream",
     "text": [
      "morpc.load_frictionless_data | INFO | Loading Frictionless Resource file at location ..\\morpc-renewenergyfacilities-standardize\\output_data\\renewable_portfolio_standard_facilities.resource.yaml\n",
      "morpc.load_frictionless_data | INFO | Loading data, resource file, and schema from their source locations\n",
      "morpc.load_frictionless_data | INFO | --> Data file: ..\\morpc-renewenergyfacilities-standardize\\output_data\\renewable_portfolio_standard_facilities.csv\n",
      "morpc.load_frictionless_data | INFO | --> Resource file: ..\\morpc-renewenergyfacilities-standardize\\output_data\\renewable_portfolio_standard_facilities.resource.yaml\n",
      "morpc.load_frictionless_data | INFO | --> Schema file: ..\\morpc-renewenergyfacilities-standardize\\output_data\\renewable_portfolio_standard_facilities.schema.yaml\n",
      "morpc.load_frictionless_data | INFO | Loading data.\n",
      "frictionless_cast_field_types | INFO | Casting field Name Of Renewable Generating Facility as type string.\n",
      "frictionless_cast_field_types | INFO | Casting field State as type string.\n",
      "frictionless_cast_field_types | INFO | Casting field County as type string.\n",
      "frictionless_cast_field_types | INFO | Casting field Approved as type date.\n",
      "frictionless_cast_field_types | INFO | Casting field Certificate ID as type string.\n",
      "frictionless_cast_field_types | INFO | Casting field Technology as type string.\n",
      "frictionless_cast_field_types | INFO | Casting field Capacity (MW) as type number.\n"
     ]
    }
   ],
   "source": [
    "data_raw, resource, schema = morpc.frictionless_load_data('../morpc-renewenergyfacilities-standardize/output_data/renewable_portfolio_standard_facilities.resource.yaml')"
   ]
  },
  {
   "cell_type": "code",
   "execution_count": 4,
   "id": "de7c757b-a961-403d-8faa-2ab73ccd2e44",
   "metadata": {},
   "outputs": [],
   "source": [
    "data = data_raw.copy()\n",
    "data['County'] = [x.replace(' County', '')for x in data['County']]\n",
    "data['Year'] = [int(x.strftime('%Y')) for x in data['Approved']]"
   ]
  },
  {
   "cell_type": "code",
   "execution_count": 5,
   "id": "d29da5c8-cb19-4134-ac79-3f8b7a83994b",
   "metadata": {},
   "outputs": [
    {
     "name": "stdout",
     "output_type": "stream",
     "text": [
      "Loading data for MORPC 15-County region only\n"
     ]
    }
   ],
   "source": [
    "county_names = morpc.countyLookup(scope = \"REGION15\").list_names()"
   ]
  },
  {
   "cell_type": "code",
   "execution_count": 6,
   "id": "b3f01d91-3c3f-4bd6-b8cc-b79bb179372c",
   "metadata": {},
   "outputs": [],
   "source": [
    "data = data.loc[data['County'].isin(county_names)]"
   ]
  },
  {
   "cell_type": "code",
   "execution_count": 7,
   "id": "4efe4e81-6683-4083-93cf-13b30da8c884",
   "metadata": {},
   "outputs": [
    {
     "data": {
      "text/plain": [
       "<Axes: >"
      ]
     },
     "execution_count": 7,
     "metadata": {},
     "output_type": "execute_result"
    },
    {
     "data": {
      "image/png": "[encoded data removed]",
      "text/plain": [
       "<Figure size 640x480 with 1 Axes>"
      ]
     },
     "metadata": {},
     "output_type": "display_data"
    }
   ],
   "source": [
    "data['Year'].hist(bins=len(data['Year'].unique()))"
   ]
  },
  {
   "cell_type": "code",
   "execution_count": 8,
   "id": "194c8dc8-cc93-434e-961c-4edae5d15785",
   "metadata": {},
   "outputs": [],
   "source": [
    "def calc_counts_sums(data, index_col, year_col, type_col, sum_col):\n",
    "    print(f\"INFO | Calculating sums for {sum_col} and counts for {type_col}\")\n",
    "    data = data.copy()\n",
    "    data['count'] = 1\n",
    "    count_col = 'count'\n",
    "    data['total'] = data[sum_col]\n",
    "    data = data[[index_col, year_col, type_col, 'count', 'total']].groupby([index_col, year_col, type_col]).sum().reset_index()\n",
    "    data = data.set_index([index_col, year_col])\n",
    "    data = data.pivot(columns = [type_col]).fillna(0)\n",
    "    data.columns = data.columns.map(\"_\".join)\n",
    "    columns = data.columns # Store columns to add zero observations later\n",
    "    data = data.reset_index()\n",
    "    return(data, columns)\n",
    "\n",
    "def add_zeros_for_non_obs(data, index_col, year_col, columns):\n",
    "    print(\"INFO | Adding zeros to empty observations.\")\n",
    "    # Add observations that have zeros so all combinations of index and year have a observation for all types.\n",
    "    accounted_place = data[index_col].unique()\t\n",
    "    first_year = data[year_col].min()\n",
    "    last_year = pd.Series([x for x in data[year_col] if x < 9999]).max()\n",
    "\n",
    "    data_zeros = data.copy()\n",
    "    for year in range(int(first_year), int(last_year)+1, 1):  # range stops at one less than the second parameter, hence the +1\n",
    "        for place in accounted_place:\n",
    "            if data_zeros[(data_zeros[year_col] == year) & (data_zeros[index_col] == place)].shape[0] == 0:\n",
    "                entry = {\n",
    "                    year_col: year,\n",
    "                    index_col: place,\n",
    "                }\n",
    "                for c in columns:\n",
    "                    entry[c] = 0\n",
    "                \n",
    "                data_zeros = pd.concat([data_zeros, pd.DataFrame.from_dict(entry, orient='index').transpose()], ignore_index=True)\n",
    "    return (data_zeros)\n",
    "\n",
    "def pivot_wide_to_long(data, index_col, preserve_cols, year_col, type_col):\n",
    "    print(\"INFO | Pivoting to long format\")\n",
    "    data = data.melt(id_vars=list(pd.core.common.flatten([index_col, preserve_cols, year_col]))).rename(columns={'variable':type_col})\n",
    "    data = data.sort_values([index_col, type_col, year_col])\n",
    "    return(data)"
   ]
  },
  {
   "cell_type": "code",
   "execution_count": 9,
   "id": "e0b82945-9975-49eb-8d96-a9cd80678626",
   "metadata": {},
   "outputs": [
    {
     "name": "stdout",
     "output_type": "stream",
     "text": [
      "INFO | Calculating sums for Capacity (MW) and counts for Technology\n"
     ]
    }
   ],
   "source": [
    "data, columns = calc_counts_sums(data, 'County', 'Year', 'Technology', 'Capacity (MW)')"
   ]
  },
  {
   "cell_type": "code",
   "execution_count": 10,
   "id": "56318c8e-f476-4be3-b11f-0d62a47bd31a",
   "metadata": {},
   "outputs": [
    {
     "name": "stdout",
     "output_type": "stream",
     "text": [
      "INFO | Adding zeros to empty observations.\n"
     ]
    }
   ],
   "source": [
    "wide = add_zeros_for_non_obs(data, 'County', 'Year', columns).sort_values(['County', 'Year'])"
   ]
  },
  {
   "cell_type": "code",
   "execution_count": 11,
   "id": "9b4f0410-9214-4a82-bb6a-9ed9c647142c",
   "metadata": {},
   "outputs": [],
   "source": [
    "wide['COUNTYFP'] = wide['County'].map(morpc.CONST_COUNTY_NAME_TO_ID)"
   ]
  },
  {
   "cell_type": "code",
   "execution_count": 12,
   "id": "e21c8abd-3130-482f-913c-b5377d2b49db",
   "metadata": {},
   "outputs": [
    {
     "name": "stdout",
     "output_type": "stream",
     "text": [
      "INFO | Pivoting to long format\n"
     ]
    }
   ],
   "source": [
    "long = pivot_wide_to_long(wide, 'County', 'COUNTYFP', 'Year', 'Technology')"
   ]
  },
  {
   "cell_type": "code",
   "execution_count": 13,
   "id": "bcacaf94-19be-4ffc-bfa2-37f3cc9ee636",
   "metadata": {},
   "outputs": [],
   "source": [
    "wide.to_csv(f'{OUTPUT_DIR}/morpc-rps-county-wide.csv', index=False)\n",
    "long.to_csv(f'{OUTPUT_DIR}/morpc-rps-county-long.csv', index=False)  "
   ]
  },
  {
   "cell_type": "code",
   "execution_count": 14,
   "id": "31b5fdec-6dd7-4f35-b71b-e0919e3c8f45",
   "metadata": {},
   "outputs": [],
   "source": [
    "region_wide = wide.drop(columns = ['County', 'COUNTYFP']).groupby(['Year']).sum().reset_index()"
   ]
  },
  {
   "cell_type": "code",
   "execution_count": 15,
   "id": "436a422f-a93a-4aa3-a103-da466aa516b5",
   "metadata": {},
   "outputs": [],
   "source": [
    "region_wide['Name'] = '15-County Region'\n",
    "region_wide['GEOID'] = '001'"
   ]
  },
  {
   "cell_type": "code",
   "execution_count": 16,
   "id": "7a96263a-ed91-4076-b726-1f5f55c6a392",
   "metadata": {},
   "outputs": [
    {
     "name": "stdout",
     "output_type": "stream",
     "text": [
      "INFO | Pivoting to long format\n"
     ]
    }
   ],
   "source": [
    "region_long = pivot_wide_to_long(region_wide, 'Name', 'GEOID', 'Year', 'Technology')"
   ]
  },
  {
   "cell_type": "code",
   "execution_count": 17,
   "id": "0dbc2ed9-1bd6-4c0a-82be-1af05654e3b7",
   "metadata": {},
   "outputs": [],
   "source": [
    "region_wide.to_csv(os.path.join(OUTPUT_DIR, 'morpc-rps-region-wide.csv'), index=False)\n",
    "region_long.to_csv(os.path.join(OUTPUT_DIR, 'morpc-rps-region-long.csv'), index=False)"
   ]
  },
  {
   "cell_type": "code",
   "execution_count": 23,
   "id": "27a46c87-d78c-4f02-9f2f-dd11600c9530",
   "metadata": {
    "tags": []
   },
   "outputs": [],
   "source": [
    "geo_lookup = pd.read_csv('../morpc-geos-collect/output_data/morpc-geos-lookup.csv')\n",
    "county_fq_map = geo_lookup.loc[geo_lookup['SUMLEVEL'] == '050'][['GEOID', 'GEOIDFQ']].set_index('GEOID').to_dict()"
   ]
  },
  {
   "cell_type": "code",
   "execution_count": 27,
   "id": "79e9a4c8-069a-4a7b-ac84-e7730dd1c7fc",
   "metadata": {
    "tags": []
   },
   "outputs": [],
   "source": [
    "long['GEOIDFQ'] = [county_fq_map['GEOIDFQ'][int(x)] for x in long['COUNTYFP']]\n",
    "long['SUMLEVEL'] = '050'\n",
    "long['METRIC'] = ['Facilities' if x.startswith('count_') else 'Capacity' for x in long['Technology']]\n",
    "long['FUEL_TYPE'] = [x.split(\"_\")[-1] for x in long['Technology']]\n",
    "long['VALUE'] =  [float(x) for x in long['value']]\n",
    "long = long.rename(columns = {'County':'NAME', 'Year':'YEAR'})\n",
    "long = long[['NAME', 'GEOIDFQ', 'SUMLEVEL', 'YEAR', 'METRIC', 'FUEL_TYPE', 'VALUE']]"
   ]
  },
  {
   "cell_type": "code",
   "execution_count": 28,
   "id": "a05d621c-308a-44cc-ab23-1e002030df9a",
   "metadata": {},
   "outputs": [
    {
     "data": {
      "text/html": [
       "<div>\n",
       "<style scoped>\n",
       "    .dataframe tbody tr th:only-of-type {\n",
       "        vertical-align: middle;\n",
       "    }\n",
       "\n",
       "    .dataframe tbody tr th {\n",
       "        vertical-align: top;\n",
       "    }\n",
       "\n",
       "    .dataframe thead th {\n",
       "        text-align: right;\n",
       "    }\n",
       "</style>\n",
       "<table border=\"1\" class=\"dataframe\">\n",
       "  <thead>\n",
       "    <tr style=\"text-align: right;\">\n",
       "      <th></th>\n",
       "      <th>NAME</th>\n",
       "      <th>GEOIDFQ</th>\n",
       "      <th>SUMLEVEL</th>\n",
       "      <th>YEAR</th>\n",
       "      <th>METRIC</th>\n",
       "      <th>FUEL_TYPE</th>\n",
       "      <th>VALUE</th>\n",
       "    </tr>\n",
       "  </thead>\n",
       "  <tbody>\n",
       "    <tr>\n",
       "      <th>0</th>\n",
       "      <td>Delaware</td>\n",
       "      <td>0500000US39041</td>\n",
       "      <td>050</td>\n",
       "      <td>2009</td>\n",
       "      <td>Facilities</td>\n",
       "      <td>Biomass</td>\n",
       "      <td>0.0</td>\n",
       "    </tr>\n",
       "    <tr>\n",
       "      <th>1</th>\n",
       "      <td>Delaware</td>\n",
       "      <td>0500000US39041</td>\n",
       "      <td>050</td>\n",
       "      <td>2010</td>\n",
       "      <td>Facilities</td>\n",
       "      <td>Biomass</td>\n",
       "      <td>0.0</td>\n",
       "    </tr>\n",
       "    <tr>\n",
       "      <th>2</th>\n",
       "      <td>Delaware</td>\n",
       "      <td>0500000US39041</td>\n",
       "      <td>050</td>\n",
       "      <td>2011</td>\n",
       "      <td>Facilities</td>\n",
       "      <td>Biomass</td>\n",
       "      <td>0.0</td>\n",
       "    </tr>\n",
       "    <tr>\n",
       "      <th>3</th>\n",
       "      <td>Delaware</td>\n",
       "      <td>0500000US39041</td>\n",
       "      <td>050</td>\n",
       "      <td>2012</td>\n",
       "      <td>Facilities</td>\n",
       "      <td>Biomass</td>\n",
       "      <td>0.0</td>\n",
       "    </tr>\n",
       "    <tr>\n",
       "      <th>4</th>\n",
       "      <td>Delaware</td>\n",
       "      <td>0500000US39041</td>\n",
       "      <td>050</td>\n",
       "      <td>2013</td>\n",
       "      <td>Facilities</td>\n",
       "      <td>Biomass</td>\n",
       "      <td>0.0</td>\n",
       "    </tr>\n",
       "    <tr>\n",
       "      <th>...</th>\n",
       "      <td>...</td>\n",
       "      <td>...</td>\n",
       "      <td>...</td>\n",
       "      <td>...</td>\n",
       "      <td>...</td>\n",
       "      <td>...</td>\n",
       "      <td>...</td>\n",
       "    </tr>\n",
       "    <tr>\n",
       "      <th>2875</th>\n",
       "      <td>Union</td>\n",
       "      <td>0500000US39159</td>\n",
       "      <td>050</td>\n",
       "      <td>2020</td>\n",
       "      <td>Capacity</td>\n",
       "      <td>Wind</td>\n",
       "      <td>0.0</td>\n",
       "    </tr>\n",
       "    <tr>\n",
       "      <th>2876</th>\n",
       "      <td>Union</td>\n",
       "      <td>0500000US39159</td>\n",
       "      <td>050</td>\n",
       "      <td>2021</td>\n",
       "      <td>Capacity</td>\n",
       "      <td>Wind</td>\n",
       "      <td>0.0</td>\n",
       "    </tr>\n",
       "    <tr>\n",
       "      <th>2877</th>\n",
       "      <td>Union</td>\n",
       "      <td>0500000US39159</td>\n",
       "      <td>050</td>\n",
       "      <td>2022</td>\n",
       "      <td>Capacity</td>\n",
       "      <td>Wind</td>\n",
       "      <td>0.0</td>\n",
       "    </tr>\n",
       "    <tr>\n",
       "      <th>2878</th>\n",
       "      <td>Union</td>\n",
       "      <td>0500000US39159</td>\n",
       "      <td>050</td>\n",
       "      <td>2023</td>\n",
       "      <td>Capacity</td>\n",
       "      <td>Wind</td>\n",
       "      <td>0.0</td>\n",
       "    </tr>\n",
       "    <tr>\n",
       "      <th>2879</th>\n",
       "      <td>Union</td>\n",
       "      <td>0500000US39159</td>\n",
       "      <td>050</td>\n",
       "      <td>2024</td>\n",
       "      <td>Capacity</td>\n",
       "      <td>Wind</td>\n",
       "      <td>0.0</td>\n",
       "    </tr>\n",
       "  </tbody>\n",
       "</table>\n",
       "<p>2880 rows × 7 columns</p>\n",
       "</div>"
      ],
      "text/plain": [
       "          NAME         GEOIDFQ SUMLEVEL  YEAR      METRIC FUEL_TYPE  VALUE\n",
       "0     Delaware  0500000US39041      050  2009  Facilities   Biomass    0.0\n",
       "1     Delaware  0500000US39041      050  2010  Facilities   Biomass    0.0\n",
       "2     Delaware  0500000US39041      050  2011  Facilities   Biomass    0.0\n",
       "3     Delaware  0500000US39041      050  2012  Facilities   Biomass    0.0\n",
       "4     Delaware  0500000US39041      050  2013  Facilities   Biomass    0.0\n",
       "...        ...             ...      ...   ...         ...       ...    ...\n",
       "2875     Union  0500000US39159      050  2020    Capacity      Wind    0.0\n",
       "2876     Union  0500000US39159      050  2021    Capacity      Wind    0.0\n",
       "2877     Union  0500000US39159      050  2022    Capacity      Wind    0.0\n",
       "2878     Union  0500000US39159      050  2023    Capacity      Wind    0.0\n",
       "2879     Union  0500000US39159      050  2024    Capacity      Wind    0.0\n",
       "\n",
       "[2880 rows x 7 columns]"
      ]
     },
     "execution_count": 28,
     "metadata": {},
     "output_type": "execute_result"
    }
   ],
   "source": [
    "long"
   ]
  },
  {
   "cell_type": "code",
   "execution_count": 36,
   "id": "bfcdfb2b-1747-46b5-893f-c6ba80e21414",
   "metadata": {
    "tags": []
   },
   "outputs": [],
   "source": [
    "region_long = long.drop(columns=['NAME', 'GEOIDFQ', 'SUMLEVEL']).groupby(['YEAR', 'METRIC', 'FUEL_TYPE']).sum().reset_index()"
   ]
  },
  {
   "cell_type": "code",
   "execution_count": 37,
   "id": "55e5170a-c9a1-4098-81f4-6269044c2c7f",
   "metadata": {
    "tags": []
   },
   "outputs": [],
   "source": [
    "region_long['NAME'] = '15-County Region'\n",
    "region_long['GEOIDFQ'] = '001'\n",
    "region_long['SUMLEVEL'] = 'M01'"
   ]
  },
  {
   "cell_type": "code",
   "execution_count": 39,
   "id": "e3904415-cb9a-4f9d-b73a-7c1027bd7783",
   "metadata": {
    "tags": []
   },
   "outputs": [],
   "source": [
    "all_long = pd.concat([long, region_long])"
   ]
  },
  {
   "cell_type": "code",
   "execution_count": 40,
   "id": "b21ee5b1-6f67-428e-a1e8-19628f118710",
   "metadata": {
    "tags": []
   },
   "outputs": [],
   "source": [
    "all_long.to_csv('./output_data/morpc-renewenergyfacilities-rps-long.csv', index=False)"
   ]
  },
  {
   "cell_type": "code",
   "execution_count": 43,
   "id": "1ab2c222-f387-466c-baa6-482b709ae61a",
   "metadata": {
    "tags": []
   },
   "outputs": [
    {
     "data": {
      "text/plain": [
       "'fields:\\n  - name: NAME\\n    type: string\\n  - name: GEOIDFQ\\n    type: string\\n  - name: SUMLEVEL\\n    type: integer\\n  - name: YEAR\\n    type: integer\\n  - name: METRIC\\n    type: string\\n  - name: FUEL_TYPE\\n    type: string\\n  - name: VALUE\\n    type: number\\n'"
      ]
     },
     "execution_count": 43,
     "metadata": {},
     "output_type": "execute_result"
    }
   ],
   "source": [
    "frictionless.Schema.describe('./output_data/morpc-renewenergyfacilities-rps-long.csv').to_yaml('./output_data/morpc-renewenergyfacilities-rps-long.schema.yaml')"
   ]
  },
  {
   "cell_type": "code",
   "execution_count": 44,
   "id": "385642ec-4214-455f-8507-34992fe66c02",
   "metadata": {
    "tags": []
   },
   "outputs": [
    {
     "name": "stdout",
     "output_type": "stream",
     "text": [
      "morpc.frictionless_create_resource | INFO | Format not specified. Using format derived from data file extension: csv\n",
      "morpc.frictionless_create_resource | INFO | Title not specified. Using placeholder value derived from data filename: morpc-renewenergyfacilities-rps-long\n",
      "morpc.frictionless_create_resource | INFO | Name not specified. Using placeholder value derived from data filename: morpc-renewenergyfacilities-rps-long\n",
      "morpc.frictionless_create_resource | WARNING | Resource type not specified. Using default type 'file'\n",
      "morpc.frictionless_create_resource | INFO | Writing Frictionless Resource file to output_data\\morpc-renewenergyfacilities-rps-long.resource.yaml\n"
     ]
    },
    {
     "data": {
      "text/plain": [
       "{'name': 'morpc-renewenergyfacilities-rps-long',\n",
       " 'type': 'file',\n",
       " 'title': 'morpc-renewenergyfacilities-rps-long',\n",
       " 'description': 'A long for table containing renewable energy facilities that '\n",
       "                'were approved by PUCO. See '\n",
       "                'https://puco.ohio.gov/utilities/electricity/resources/ohio-renewable-energy-portfolio-standard/renewable-energy-resource-generating-facility-certification '\n",
       "                'Data pulled 2025-02-13 from '\n",
       "                'https://puco.my.salesforce.com/sfc/p/#t0000000GzXt/a/t0000000cV7M/GSiEQauuUkO6XhIJlxy6yIvkx9_lA3oXaYfvGpEGkcU ',\n",
       " 'profile': 'data-resource',\n",
       " 'path': 'morpc-renewenergyfacilities-rps-long.csv',\n",
       " 'scheme': 'file',\n",
       " 'format': 'csv',\n",
       " 'mediatype': 'text/csv',\n",
       " 'hash': '78bb027fd89cf71080f172070e5dafa4',\n",
       " 'bytes': 199904,\n",
       " 'schema': 'morpc-renewenergyfacilities-rps-long.schema.yaml'}"
      ]
     },
     "execution_count": 44,
     "metadata": {},
     "output_type": "execute_result"
    }
   ],
   "source": [
    "description=\"\"\"\\\n",
    "           A long for table containing renewable energy facilities that were approved by PUCO. See \n",
    "           https://puco.ohio.gov/utilities/electricity/resources/ohio-renewable-energy-portfolio-standard/renewable-energy-resource-generating-facility-certification\n",
    "           Data pulled 2025-02-13 from https://puco.my.salesforce.com/sfc/p/#t0000000GzXt/a/t0000000cV7M/GSiEQauuUkO6XhIJlxy6yIvkx9_lA3oXaYfvGpEGkcU\n",
    "           \"\"\"\n",
    "morpc.frictionless_create_resource('morpc-renewenergyfacilities-rps-long.csv', \n",
    "                                   resourcePath='./output_data/morpc-renewenergyfacilities-rps-long.resource.yaml',\n",
    "                                   schemaPath='morpc-renewenergyfacilities-rps-long.schema.yaml',\n",
    "                                   description= \" \".join(line.strip() for line in description.splitlines()),\n",
    "                                   computeBytes=True,\n",
    "                                   computeHash=True,\n",
    "                                   writeResource=True\n",
    "                                  )"
   ]
  },
  {
   "cell_type": "code",
   "execution_count": null,
   "id": "73f606ad-26c2-46b5-b9c3-15b9f1bdc81d",
   "metadata": {},
   "outputs": [],
   "source": []
  }
 ],
 "metadata": {
  "kernelspec": {
   "display_name": "Python 3 (ipykernel)",
   "language": "python",
   "name": "python3"
  },
  "language_info": {
   "codemirror_mode": {
    "name": "ipython",
    "version": 3
   },
   "file_extension": ".py",
   "mimetype": "text/x-python",
   "name": "python",
   "nbconvert_exporter": "python",
   "pygments_lexer": "ipython3",
   "version": "3.11.11"
  }
 },
 "nbformat": 4,
 "nbformat_minor": 5
}
