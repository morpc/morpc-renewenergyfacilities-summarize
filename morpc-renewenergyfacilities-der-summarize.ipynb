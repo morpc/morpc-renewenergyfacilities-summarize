{
 "cells": [
  {
   "cell_type": "markdown",
   "id": "77c7260a-6afc-4c4f-a638-21fa21e74c6e",
   "metadata": {},
   "source": [
    "# Renewable Energy Facilities - Distributed Energy Resources - Summarize"
   ]
  },
  {
   "cell_type": "code",
   "execution_count": 2,
   "id": "9faa316a-3969-4158-bd4e-fcc36ea40607",
   "metadata": {},
   "outputs": [],
   "source": [
    "import os\n",
    "import requests\n",
    "import pandas as pd\n",
    "import geopandas as gpd\n",
    "import sys\n",
    "import datetime\n",
    "sys.path.append(\"../morpc-common/\")\n",
    "import morpc\n",
    "import frictionless"
   ]
  },
  {
   "cell_type": "markdown",
   "id": "b166c873-41f8-4d2e-916c-4aacb2cab27b",
   "metadata": {},
   "source": [
    "## Gather Inputs"
   ]
  },
  {
   "cell_type": "code",
   "execution_count": 3,
   "id": "c2fd8d03-fb9e-4078-bb16-faceccc637c3",
   "metadata": {},
   "outputs": [
    {
     "name": "stdout",
     "output_type": "stream",
     "text": [
      "morpc.load_frictionless_data | INFO | Loading Frictionless Resource file at location ..\\morpc-renewenergyfacilities-standardize\\output_data\\distributed_energy_resources.resource.yaml\n",
      "morpc.load_frictionless_data | INFO | Loading data, resource file, and schema from their source locations\n",
      "morpc.load_frictionless_data | INFO | --> Data file: ..\\morpc-renewenergyfacilities-standardize\\output_data\\distributed_energy_resources.csv\n",
      "morpc.load_frictionless_data | INFO | --> Resource file: ..\\morpc-renewenergyfacilities-standardize\\output_data\\distributed_energy_resources.resource.yaml\n",
      "morpc.load_frictionless_data | INFO | --> Schema file: ..\\morpc-renewenergyfacilities-standardize\\output_data\\distributed_energy_resources.schema.yaml\n",
      "morpc.load_frictionless_data | INFO | Loading data.\n",
      "frictionless_cast_field_types | INFO | Casting field geometry as type geojson.\n",
      "frictionless_cast_field_types | INFO | Fieldname geometry as geojson. Attempting to convert to geometry.\n",
      "frictionless_cast_field_types | INFO | Fieldname geometry cast as geometry.\n",
      "frictionless_cast_field_types | INFO | Casting field DistGenId as type integer.\n",
      "frictionless_cast_field_types | WARNING | Failed conversion of fieldname DistGenId to type 'int'.  Trying type 'Int64' instead.\n",
      "frictionless_cast_field_types | INFO | Casting field OriginalDistGenID as type integer.\n",
      "frictionless_cast_field_types | WARNING | Failed conversion of fieldname OriginalDistGenID to type 'int'.  Trying type 'Int64' instead.\n",
      "frictionless_cast_field_types | INFO | Casting field EDU as type string.\n",
      "frictionless_cast_field_types | INFO | Casting field Address as type string.\n",
      "frictionless_cast_field_types | INFO | Casting field City as type string.\n",
      "frictionless_cast_field_types | INFO | Casting field State as type string.\n",
      "frictionless_cast_field_types | INFO | Casting field PostalCode as type integer.\n",
      "frictionless_cast_field_types | WARNING | Failed conversion of fieldname PostalCode to type 'int'.  Trying type 'Int64' instead.\n",
      "frictionless_cast_field_types | INFO | Casting field FuelType as type string.\n",
      "frictionless_cast_field_types | INFO | Casting field GenType as type string.\n",
      "frictionless_cast_field_types | INFO | Casting field AgreementDate as type integer.\n",
      "frictionless_cast_field_types | WARNING | Failed conversion of fieldname AgreementDate to type 'int'.  Trying type 'Int64' instead.\n",
      "frictionless_cast_field_types | INFO | Casting field OwnedBy as type string.\n",
      "frictionless_cast_field_types | INFO | Casting field DispatchedBy as type string.\n",
      "frictionless_cast_field_types | INFO | Casting field CustClass as type string.\n",
      "frictionless_cast_field_types | INFO | Casting field Lat as type number.\n",
      "frictionless_cast_field_types | INFO | Casting field Long as type number.\n",
      "frictionless_cast_field_types | INFO | Casting field CapacityInverter as type number.\n",
      "frictionless_cast_field_types | INFO | Casting field CapacityGenerator as type number.\n",
      "frictionless_cast_field_types | INFO | Casting field ReportedCapacity_kW as type number.\n",
      "frictionless_cast_field_types | INFO | Casting field ReportedCapacityTotal_kW as type number.\n",
      "frictionless_cast_field_types | INFO | Casting field FacilityStatus as type string.\n",
      "frictionless_cast_field_types | INFO | Casting field Duplicate as type string.\n",
      "frictionless_cast_field_types | INFO | Casting field Note as type string.\n",
      "frictionless_cast_field_types | INFO | Casting field DashboardFuelType as type string.\n",
      "frictionless_cast_field_types | INFO | Casting field YEAR as type integer.\n",
      "frictionless_cast_field_types | WARNING | Failed conversion of fieldname YEAR to type 'int'.  Trying type 'Int64' instead.\n"
     ]
    }
   ],
   "source": [
    "data, resource, schema = morpc.frictionless_load_data('../morpc-renewenergyfacilities-standardize/output_data/distributed_energy_resources.resource.yaml')"
   ]
  },
  {
   "cell_type": "code",
   "execution_count": 4,
   "id": "cd52ffd5-ed00-485f-8f1a-b6c44c24ed88",
   "metadata": {},
   "outputs": [],
   "source": [
    "der_data = gpd.GeoDataFrame(data).set_crs('EPSG:3735')"
   ]
  },
  {
   "cell_type": "code",
   "execution_count": 5,
   "id": "489278ff-f73b-4946-b537-56f509e2bf9b",
   "metadata": {},
   "outputs": [
    {
     "name": "stdout",
     "output_type": "stream",
     "text": [
      "morpc.load_spatial_data | INFO | Loading spatial data from location: ../morpc-geos-collect/output_data/morpc-geos.gpkg\n",
      "morpc.load_spatial_data | INFO | Driver name is unspecified.  Will attempt to infer driver from file extension in source path.\n",
      "morpc.load_spatial_data | INFO | Selecting driver GPKG based on file extension .gpkg\n",
      "morpc.load_spatial_data | INFO | Reading spatial data...\n"
     ]
    },
    {
     "name": "stderr",
     "output_type": "stream",
     "text": [
      "C:\\Users\\jinskeep\\AppData\\Local\\miniconda3\\envs\\morpc_env\\Lib\\site-packages\\pyogrio\\raw.py:137: RuntimeWarning: driver GPKG does not support open option DRIVER\n",
      "  result = ogr_read(\n"
     ]
    }
   ],
   "source": [
    "juris_geos = morpc.load_spatial_data('../morpc-geos-collect/output_data/morpc-geos.gpkg', layerName='JURIS')"
   ]
  },
  {
   "cell_type": "code",
   "execution_count": 6,
   "id": "33eb0b8f-cdc0-4ae8-ade7-928eba4a531b",
   "metadata": {},
   "outputs": [],
   "source": [
    "juris_geos['JURISNAME'] = [f\"{x} {y}\" for x, y in zip(juris_geos['NAME'], juris_geos['MUNITYPE'])]"
   ]
  },
  {
   "cell_type": "code",
   "execution_count": 7,
   "id": "60ccad18-c8ec-4f53-af55-4038c8c62a6b",
   "metadata": {},
   "outputs": [
    {
     "name": "stdout",
     "output_type": "stream",
     "text": [
      "morpc.load_spatial_data | INFO | Loading spatial data from location: ../morpc-geos-collect/output_data/morpc-geos.gpkg\n",
      "morpc.load_spatial_data | INFO | Driver name is unspecified.  Will attempt to infer driver from file extension in source path.\n",
      "morpc.load_spatial_data | INFO | Selecting driver GPKG based on file extension .gpkg\n",
      "morpc.load_spatial_data | INFO | Reading spatial data...\n"
     ]
    },
    {
     "name": "stderr",
     "output_type": "stream",
     "text": [
      "C:\\Users\\jinskeep\\AppData\\Local\\miniconda3\\envs\\morpc_env\\Lib\\site-packages\\pyogrio\\raw.py:137: RuntimeWarning: driver GPKG does not support open option DRIVER\n",
      "  result = ogr_read(\n"
     ]
    }
   ],
   "source": [
    "county_geos = morpc.load_spatial_data('../morpc-geos-collect/output_data/morpc-geos.gpkg', layerName='COUNTY')"
   ]
  },
  {
   "cell_type": "code",
   "execution_count": 8,
   "id": "55c9111c-63f3-435e-8966-ff2185a42e11",
   "metadata": {},
   "outputs": [],
   "source": [
    "county_geos['COUNTYFP'] = [f'39{x}' for x in county_geos['COUNTYFP']]"
   ]
  },
  {
   "cell_type": "code",
   "execution_count": 9,
   "id": "2fbbadec-29bc-4ab6-bac8-25de4a2fc3d7",
   "metadata": {},
   "outputs": [],
   "source": [
    "county_geos['COUNTYNAME'] = county_geos['COUNTYFP'].map(morpc.CONST_COUNTY_ID_TO_NAME)"
   ]
  },
  {
   "cell_type": "code",
   "execution_count": 10,
   "id": "1ea790c9-ba50-4af3-87b2-fd5ad4c5c38b",
   "metadata": {},
   "outputs": [
    {
     "name": "stdout",
     "output_type": "stream",
     "text": [
      "morpc.load_spatial_data | INFO | Loading spatial data from location: ../morpc-geos-collect/output_data/morpc-geos.gpkg\n",
      "morpc.load_spatial_data | INFO | Driver name is unspecified.  Will attempt to infer driver from file extension in source path.\n",
      "morpc.load_spatial_data | INFO | Selecting driver GPKG based on file extension .gpkg\n",
      "morpc.load_spatial_data | INFO | Reading spatial data...\n"
     ]
    },
    {
     "name": "stderr",
     "output_type": "stream",
     "text": [
      "C:\\Users\\jinskeep\\AppData\\Local\\miniconda3\\envs\\morpc_env\\Lib\\site-packages\\pyogrio\\raw.py:137: RuntimeWarning: driver GPKG does not support open option DRIVER\n",
      "  result = ogr_read(\n"
     ]
    }
   ],
   "source": [
    "region_geos = morpc.load_spatial_data('../morpc-geos-collect/output_data/morpc-geos.gpkg', layerName='REGION15')"
   ]
  },
  {
   "cell_type": "code",
   "execution_count": 11,
   "id": "bb1fe2ba-7ee4-4ab3-a8a3-2f9525724098",
   "metadata": {},
   "outputs": [],
   "source": [
    "def join_points_polygons(points, polygons, index_col, crs, how, predicate):\n",
    "    if crs != None:\n",
    "        print(f\"INFO | Converting points crs and polygons crs to user defined option: {crs}.\")\n",
    "        points = points.to_crs(crs)\n",
    "        polygons = polygons.to_crs(crs)\n",
    "    if points.crs != polygons.crs:\n",
    "        print(f\"WARNING | CRS do not match. Converting points crs to match polygons crs: {polygons.crs.name}\")\n",
    "        points = points.to_crs(polygons.crs)\n",
    "        \n",
    "    try:\n",
    "        df = points.sjoin(polygons, how=how, predicate=predicate)\n",
    "    except RuntimeError as r:\n",
    "        print(f\"ERROR | Unable to spatially join points and polygons {r}.\") \n",
    "    finally:\n",
    "        print(f\"INFO | Joined points and polygons.\")\n",
    "\n",
    "    print(f\"INFO | Indexing by {index_col} from polygons.\")\n",
    "    data = df.copy()\n",
    "    data = data.loc[~data[index_col].isna()] ## Remove rows with empty join\n",
    "    return(data)\n",
    "\n",
    "def calc_counts_sums(data, index_col, year_col, type_col, sum_col):\n",
    "    print(f\"INFO | Calculating sums for {sum_col} and counts for {type_col}\")\n",
    "    data = data.copy()\n",
    "    data['count'] = 1\n",
    "    count_col = 'count'\n",
    "    data['total'] = data[sum_col]\n",
    "    data = data[[index_col, year_col, type_col, 'count', 'total']].groupby([index_col, year_col, type_col]).sum().reset_index()\n",
    "    data = data.set_index([index_col, year_col])\n",
    "    data = data.pivot(columns = [type_col]).fillna(0)\n",
    "    data.columns = data.columns.map(\"_\".join)\n",
    "    columns = data.columns # Store columns to add zero observations later\n",
    "    data = data.reset_index()\n",
    "    return(data, columns)\n",
    "\n",
    "def add_zeros_for_non_obs(data, index_col, year_col, columns):\n",
    "    print(\"INFO | Adding zeros to empty observations.\")\n",
    "    # Add observations that have zeros so all combinations of index and year have a observation for all types.\n",
    "    accounted_place = data[index_col].unique()\t\n",
    "    first_year = data[year_col].min()\n",
    "    last_year = pd.Series([x for x in data[year_col] if x < 9999]).max()\n",
    "\n",
    "    data_zeros = data.copy()\n",
    "    for year in range(int(first_year), int(last_year)+1, 1):  # range stops at one less than the second parameter, hence the +1\n",
    "        for place in accounted_place:\n",
    "            if data_zeros[(data_zeros[year_col] == year) & (data_zeros[index_col] == place)].shape[0] == 0:\n",
    "                entry = {\n",
    "                    year_col: year,\n",
    "                    index_col: place,\n",
    "                }\n",
    "                for c in columns:\n",
    "                    entry[c] = 0\n",
    "                \n",
    "                data_zeros = pd.concat([data_zeros, pd.DataFrame.from_dict(entry, orient='index').transpose()], ignore_index=True)\n",
    "    return (data_zeros)\n",
    "\n",
    "def rejoin_preserve_col(data, df, index_col, year_col, preserve_cols):\n",
    "    print(f'INFO | Rejoining {preserve_cols} by {index_col}')\n",
    "    # Rejoin columns to preserve\n",
    "    data = data.set_index(index_col).join(df[list(pd.core.common.flatten([index_col, preserve_cols]))].drop_duplicates().set_index(index_col), how='left')\n",
    "    data = data.reset_index()\n",
    "    data = data.sort_values([index_col, year_col])\n",
    "    return(data)\n",
    "\n",
    "def pivot_wide_to_long(data, index_col, preserve_cols, year_col, type_col):\n",
    "    print(\"INFO | Pivoting to long format\")\n",
    "    data = data.melt(id_vars=list(pd.core.common.flatten([index_col, preserve_cols, year_col]))).rename(columns={'variable':type_col})\n",
    "    data = data.sort_values([index_col, type_col, year_col])\n",
    "    return(data)\n",
    "\n",
    "def summarize_points_in_polygons(points, polygons, index_col, year_col, type_col, preserve_cols, sum_col, crs=None, how = 'left', predicate = 'intersects'):\n",
    "\n",
    "    data = join_points_polygons(points, polygons, index_col, crs, how = 'left', predicate='within')\n",
    "    \n",
    "    count_sums, columns = calc_counts_sums(data, index_col, year_col, type_col, sum_col)\n",
    "    \n",
    "    data_zeros = add_zeros_for_non_obs(count_sums, index_col, year_col, columns) \n",
    "    \n",
    "    wide = rejoin_preserve_col(data_zeros, data, index_col, year_col, preserve_cols)\n",
    "    \n",
    "    long = pivot_wide_to_long(wide, index_col, preserve_cols, year_col, type_col)\n",
    "\n",
    "    return(wide, long)"
   ]
  },
  {
   "cell_type": "code",
   "execution_count": 12,
   "id": "4d5c5bf3-1a59-41e0-a4f1-92d5ec53a67c",
   "metadata": {},
   "outputs": [],
   "source": [
    "juris = {'points':der_data,\n",
    "        'polygons':juris_geos,\n",
    "        'index_col':\"JURISNAME\",\n",
    "        'year_col':\"YEAR\",\n",
    "        'type_col':\"FuelType\",\n",
    "        'preserve_cols':'GEOIDFQ',\n",
    "        'sum_col':\"ReportedCapacity_kW\",}"
   ]
  },
  {
   "cell_type": "code",
   "execution_count": 13,
   "id": "849a8bbe-24b8-4ece-90c2-a8a4de794676",
   "metadata": {},
   "outputs": [],
   "source": [
    "county = {'points':der_data,\n",
    "        'polygons':county_geos,\n",
    "        'index_col':\"COUNTYNAME\",\n",
    "        'year_col':\"YEAR\",\n",
    "        'type_col':\"FuelType\",\n",
    "        'preserve_cols':'GEOIDFQ',\n",
    "        'sum_col':\"ReportedCapacity_kW\",}"
   ]
  },
  {
   "cell_type": "code",
   "execution_count": 14,
   "id": "b5d8c0ed-eddd-43cb-9153-3be0bc158394",
   "metadata": {},
   "outputs": [],
   "source": [
    "region = {'points':der_data,\n",
    "        'polygons':region_geos,\n",
    "        'index_col':\"NAME\",\n",
    "        'year_col':\"YEAR\",\n",
    "        'type_col':\"FuelType\",\n",
    "        'preserve_cols':'GEOIDFQ',\n",
    "        'sum_col':\"ReportedCapacity_kW\"}"
   ]
  },
  {
   "cell_type": "code",
   "execution_count": 15,
   "id": "baf0b9d1-2c4c-453d-98d7-d2ec6c145709",
   "metadata": {},
   "outputs": [],
   "source": [
    "OUTPUT_DIR = './output_data'\n",
    "if not os.path.exists(OUTPUT_DIR):\n",
    "    os.mkdir(OUTPUT_DIR)"
   ]
  },
  {
   "cell_type": "code",
   "execution_count": 16,
   "id": "1c99303b-7a7e-4c04-b29c-fe0142e81c59",
   "metadata": {},
   "outputs": [
    {
     "name": "stdout",
     "output_type": "stream",
     "text": [
      "INFO | Joined points and polygons.\n",
      "INFO | Indexing by JURISNAME from polygons.\n",
      "INFO | Calculating sums for ReportedCapacity_kW and counts for FuelType\n",
      "INFO | Adding zeros to empty observations.\n",
      "INFO | Rejoining GEOIDFQ by JURISNAME\n",
      "INFO | Pivoting to long format\n"
     ]
    }
   ],
   "source": [
    "juris_wide, juris_long = summarize_points_in_polygons(**juris)\n",
    "juris_wide.to_csv(f'{OUTPUT_DIR}/morpc-der-juris-wide.csv', index=False)\n",
    "juris_long.to_csv(f'{OUTPUT_DIR}/morpc-der-juris-long.csv', index=False)                "
   ]
  },
  {
   "cell_type": "code",
   "execution_count": 17,
   "id": "ee4e48c8-c07b-40e1-9120-63a57973e00e",
   "metadata": {},
   "outputs": [
    {
     "name": "stdout",
     "output_type": "stream",
     "text": [
      "INFO | Joined points and polygons.\n",
      "INFO | Indexing by COUNTYNAME from polygons.\n",
      "INFO | Calculating sums for ReportedCapacity_kW and counts for FuelType\n",
      "INFO | Adding zeros to empty observations.\n",
      "INFO | Rejoining GEOIDFQ by COUNTYNAME\n",
      "INFO | Pivoting to long format\n"
     ]
    }
   ],
   "source": [
    "county_wide, county_long = summarize_points_in_polygons(**county)\n",
    "county_wide.to_csv(f'{OUTPUT_DIR}/morpc-der-county-wide.csv', index=False)\n",
    "county_long.to_csv(f'{OUTPUT_DIR}/morpc-der-county-long.csv', index=False)       "
   ]
  },
  {
   "cell_type": "code",
   "execution_count": 18,
   "id": "899ebdcd-210e-45d8-bbb6-933c43aa80f4",
   "metadata": {},
   "outputs": [
    {
     "name": "stdout",
     "output_type": "stream",
     "text": [
      "INFO | Joined points and polygons.\n",
      "INFO | Indexing by NAME from polygons.\n",
      "INFO | Calculating sums for ReportedCapacity_kW and counts for FuelType\n",
      "INFO | Adding zeros to empty observations.\n",
      "INFO | Rejoining GEOIDFQ by NAME\n",
      "INFO | Pivoting to long format\n"
     ]
    }
   ],
   "source": [
    "region_wide, region_long = summarize_points_in_polygons(**region)\n",
    "region_wide.to_csv(f'{OUTPUT_DIR}/morpc-der-region-wide.csv', index=False)\n",
    "region_long.to_csv(f'{OUTPUT_DIR}/morpc-der-region-long.csv', index=False)    "
   ]
  },
  {
   "cell_type": "code",
   "execution_count": 19,
   "id": "f2db31ce-c7b5-4ab4-bfb8-ef8c6f1643ad",
   "metadata": {},
   "outputs": [],
   "source": [
    "region_long['SUMLEVEL'] = 'M01'\n",
    "region_long['METRIC'] = ['Facilities' if x.startswith('count_') else 'Capacity' for x in region_long['FuelType']]\n",
    "region_long['FUEL_TYPE'] = [x.split(\"_\")[-1] for x in region_long['FuelType']]\n",
    "region_long[['NAME', 'GEOIDFQ', 'SUMLEVEL', 'YEAR', 'METRIC', 'FUEL_TYPE', 'VALUE']]\n",
    "region_long['VALUE'] = [float(x) for x in region_long['VALUE']]\n",
    "region_long = region_long[['NAME', 'GEOIDFQ', 'SUMLEVEL', 'YEAR', 'METRIC', 'FUEL_TYPE', 'VALUE']]"
   ]
  },
  {
   "cell_type": "code",
   "execution_count": 20,
   "id": "198baa67-6065-400c-8be3-7ae585ca8946",
   "metadata": {},
   "outputs": [],
   "source": [
    "county_long['SUMLEVEL'] = '050'\n",
    "county_long['METRIC'] = ['Facilities' if x.startswith('count_') else 'Capacity' for x in county_long['FuelType']]\n",
    "county_long['FUEL_TYPE'] = [x.split(\"_\")[-1] for x in county_long['FuelType']]\n",
    "county_long = county_long.rename(columns = {'COUNTYNAME':'NAME','Year':'YEAR', 'value':\"VALUE\"})\n",
    "county_long[['NAME', 'GEOIDFQ', 'SUMLEVEL', 'YEAR', 'METRIC', 'FUEL_TYPE', 'VALUE']]\n",
    "county_long['VALUE'] = [float(x) for x in county_long['VALUE']]\n",
    "county_long = county_long[['NAME', 'GEOIDFQ', 'SUMLEVEL', 'YEAR', 'METRIC', 'FUEL_TYPE', 'VALUE']]"
   ]
  },
  {
   "cell_type": "code",
   "execution_count": 21,
   "id": "2543ad83-1999-481f-b6d5-3042687e0c96",
   "metadata": {
    "tags": []
   },
   "outputs": [],
   "source": [
    "juris_long['SUMLEVEL'] = [x[:3] for x in juris_long['GEOIDFQ']]\n",
    "juris_long['METRIC'] = ['Facilities' if x.startswith('count_') else 'Capacity' for x in juris_long['FuelType']]\n",
    "juris_long['FUEL_TYPE'] = [x.split(\"_\")[-1] for x in juris_long['FuelType']]\n",
    "juris_long = juris_long.rename(columns = {'JURISNAME':'NAME','Year':'YEAR', 'value':\"VALUE\"})\n",
    "juris_long[['NAME', 'GEOIDFQ', 'SUMLEVEL', 'YEAR', 'METRIC', 'FUEL_TYPE', 'VALUE']]\n",
    "juris_long['VALUE'] = [float(x) for x in juris_long['VALUE']]\n",
    "juris_long = juris_long[['NAME', 'GEOIDFQ', 'SUMLEVEL', 'YEAR', 'METRIC', 'FUEL_TYPE', 'VALUE']]"
   ]
  },
  {
   "cell_type": "code",
   "execution_count": 22,
   "id": "3f42ceec-ae8d-487a-b425-f1d56a886850",
   "metadata": {
    "tags": []
   },
   "outputs": [],
   "source": [
    "all_long = pd.concat([region_long, county_long, juris_long])"
   ]
  },
  {
   "cell_type": "code",
   "execution_count": 23,
   "id": "daf1fcae-f090-4141-adbc-1716c5d56ff2",
   "metadata": {
    "tags": []
   },
   "outputs": [
    {
     "data": {
      "text/html": [
       "<div>\n",
       "<style scoped>\n",
       "    .dataframe tbody tr th:only-of-type {\n",
       "        vertical-align: middle;\n",
       "    }\n",
       "\n",
       "    .dataframe tbody tr th {\n",
       "        vertical-align: top;\n",
       "    }\n",
       "\n",
       "    .dataframe thead th {\n",
       "        text-align: right;\n",
       "    }\n",
       "</style>\n",
       "<table border=\"1\" class=\"dataframe\">\n",
       "  <thead>\n",
       "    <tr style=\"text-align: right;\">\n",
       "      <th></th>\n",
       "      <th>NAME</th>\n",
       "      <th>GEOIDFQ</th>\n",
       "      <th>SUMLEVEL</th>\n",
       "      <th>YEAR</th>\n",
       "      <th>METRIC</th>\n",
       "      <th>FUEL_TYPE</th>\n",
       "      <th>VALUE</th>\n",
       "    </tr>\n",
       "  </thead>\n",
       "  <tbody>\n",
       "    <tr>\n",
       "      <th>0</th>\n",
       "      <td>15-County Region</td>\n",
       "      <td>M010000US001</td>\n",
       "      <td>M01</td>\n",
       "      <td>2000</td>\n",
       "      <td>Facilities</td>\n",
       "      <td>Biofuel</td>\n",
       "      <td>0.0</td>\n",
       "    </tr>\n",
       "    <tr>\n",
       "      <th>1</th>\n",
       "      <td>15-County Region</td>\n",
       "      <td>M010000US001</td>\n",
       "      <td>M01</td>\n",
       "      <td>2001</td>\n",
       "      <td>Facilities</td>\n",
       "      <td>Biofuel</td>\n",
       "      <td>0.0</td>\n",
       "    </tr>\n",
       "    <tr>\n",
       "      <th>2</th>\n",
       "      <td>15-County Region</td>\n",
       "      <td>M010000US001</td>\n",
       "      <td>M01</td>\n",
       "      <td>2002</td>\n",
       "      <td>Facilities</td>\n",
       "      <td>Biofuel</td>\n",
       "      <td>0.0</td>\n",
       "    </tr>\n",
       "    <tr>\n",
       "      <th>3</th>\n",
       "      <td>15-County Region</td>\n",
       "      <td>M010000US001</td>\n",
       "      <td>M01</td>\n",
       "      <td>2003</td>\n",
       "      <td>Facilities</td>\n",
       "      <td>Biofuel</td>\n",
       "      <td>0.0</td>\n",
       "    </tr>\n",
       "    <tr>\n",
       "      <th>4</th>\n",
       "      <td>15-County Region</td>\n",
       "      <td>M010000US001</td>\n",
       "      <td>M01</td>\n",
       "      <td>2004</td>\n",
       "      <td>Facilities</td>\n",
       "      <td>Biofuel</td>\n",
       "      <td>0.0</td>\n",
       "    </tr>\n",
       "  </tbody>\n",
       "</table>\n",
       "</div>"
      ],
      "text/plain": [
       "               NAME       GEOIDFQ SUMLEVEL  YEAR      METRIC FUEL_TYPE  VALUE\n",
       "0  15-County Region  M010000US001      M01  2000  Facilities   Biofuel    0.0\n",
       "1  15-County Region  M010000US001      M01  2001  Facilities   Biofuel    0.0\n",
       "2  15-County Region  M010000US001      M01  2002  Facilities   Biofuel    0.0\n",
       "3  15-County Region  M010000US001      M01  2003  Facilities   Biofuel    0.0\n",
       "4  15-County Region  M010000US001      M01  2004  Facilities   Biofuel    0.0"
      ]
     },
     "execution_count": 23,
     "metadata": {},
     "output_type": "execute_result"
    }
   ],
   "source": [
    "all_long.head()"
   ]
  },
  {
   "cell_type": "code",
   "execution_count": 24,
   "id": "b57877de-50e8-4ffc-8e10-102523cbcbdc",
   "metadata": {
    "tags": []
   },
   "outputs": [],
   "source": [
    "all_long.to_csv('./output_data/morpc-renewenergyfacilities-der-long.csv', index=False)"
   ]
  },
  {
   "cell_type": "code",
   "execution_count": 25,
   "id": "2eceebdc-c023-4c9f-b6c0-d2d9dfdf69a0",
   "metadata": {
    "tags": []
   },
   "outputs": [
    {
     "data": {
      "text/plain": [
       "'fields:\\n  - name: NAME\\n    type: string\\n  - name: GEOIDFQ\\n    type: string\\n  - name: SUMLEVEL\\n    type: string\\n  - name: YEAR\\n    type: integer\\n  - name: METRIC\\n    type: string\\n  - name: FUEL_TYPE\\n    type: string\\n  - name: VALUE\\n    type: number\\n'"
      ]
     },
     "execution_count": 25,
     "metadata": {},
     "output_type": "execute_result"
    }
   ],
   "source": [
    "frictionless.Schema.describe('./output_data/morpc-renewenergyfacilities-der-long.csv').to_yaml('./output_data/morpc-renewenergyfacilities-der-long.schema.yaml')"
   ]
  },
  {
   "cell_type": "code",
   "execution_count": 26,
   "id": "a9a1bebe-5aed-497c-95e5-a2c9f5d4a88f",
   "metadata": {
    "tags": []
   },
   "outputs": [
    {
     "name": "stdout",
     "output_type": "stream",
     "text": [
      "morpc.frictionless_create_resource | INFO | Format not specified. Using format derived from data file extension: csv\n",
      "morpc.frictionless_create_resource | INFO | Title not specified. Using placeholder value derived from data filename: morpc-renewenergyfacilities-der-long\n",
      "morpc.frictionless_create_resource | INFO | Name not specified. Using placeholder value derived from data filename: morpc-renewenergyfacilities-der-long\n",
      "morpc.frictionless_create_resource | WARNING | Resource type not specified. Using default type 'file'\n",
      "morpc.frictionless_create_resource | INFO | Writing Frictionless Resource file to output_data\\morpc-renewenergyfacilities-der-long.resource.yaml\n"
     ]
    },
    {
     "data": {
      "text/plain": [
       "{'name': 'morpc-renewenergyfacilities-der-long',\n",
       " 'type': 'file',\n",
       " 'title': 'morpc-renewenergyfacilities-der-long',\n",
       " 'description': 'A long for table containing renewable energy facilities that '\n",
       "                'were approved by PUCO. See '\n",
       "                'https://puco.ohio.gov/utilities/electricity/resources/distributed-energy-generating-your-own-electricity '\n",
       "                'Data pulled 2025-02-13 from '\n",
       "                'https://maps.puco.ohio.gov/arcgis/rest/services/electric/Distributed_Energy_Resources/MapServer/0 ',\n",
       " 'profile': 'data-resource',\n",
       " 'path': 'morpc-renewenergyfacilities-der-long.csv',\n",
       " 'scheme': 'file',\n",
       " 'format': 'csv',\n",
       " 'mediatype': 'text/csv',\n",
       " 'hash': 'd80ae02c14b6e2b123327ff4c30ea4c2',\n",
       " 'bytes': 6759051,\n",
       " 'schema': 'morpc-renewenergyfacilities-der-long.schema.yaml'}"
      ]
     },
     "execution_count": 26,
     "metadata": {},
     "output_type": "execute_result"
    }
   ],
   "source": [
    "description=\"\"\"\\\n",
    "           A long for table containing renewable energy facilities that were approved by PUCO. See \n",
    "           https://puco.ohio.gov/utilities/electricity/resources/distributed-energy-generating-your-own-electricity\n",
    "           Data pulled 2025-02-13 from https://maps.puco.ohio.gov/arcgis/rest/services/electric/Distributed_Energy_Resources/MapServer/0\n",
    "           \"\"\"\n",
    "morpc.frictionless_create_resource('morpc-renewenergyfacilities-der-long.csv', \n",
    "                                   resourcePath='./output_data/morpc-renewenergyfacilities-der-long.resource.yaml',\n",
    "                                   schemaPath='morpc-renewenergyfacilities-der-long.schema.yaml',\n",
    "                                   description= \" \".join(line.strip() for line in description.splitlines()),\n",
    "                                   computeBytes=True,\n",
    "                                   computeHash=True,\n",
    "                                   writeResource=True\n",
    "                                  )"
   ]
  },
  {
   "cell_type": "code",
   "execution_count": null,
   "id": "1edf4244-7ae2-4b49-a6e3-c45fec13f9af",
   "metadata": {},
   "outputs": [],
   "source": []
  }
 ],
 "metadata": {
  "kernelspec": {
   "display_name": "Python 3 (ipykernel)",
   "language": "python",
   "name": "python3"
  },
  "language_info": {
   "codemirror_mode": {
    "name": "ipython",
    "version": 3
   },
   "file_extension": ".py",
   "mimetype": "text/x-python",
   "name": "python",
   "nbconvert_exporter": "python",
   "pygments_lexer": "ipython3",
   "version": "3.11.11"
  }
 },
 "nbformat": 4,
 "nbformat_minor": 5
}
